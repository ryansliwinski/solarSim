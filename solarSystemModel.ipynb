{
 "cells": [
  {
   "cell_type": "markdown",
   "id": "09f46b5b-b614-4a6a-80e3-a4113ed503b1",
   "metadata": {},
   "source": [
    "# imports and constants"
   ]
  },
  {
   "cell_type": "code",
   "execution_count": 26,
   "id": "7270505e-040a-4fc8-ad5b-eba3adfb5004",
   "metadata": {},
   "outputs": [],
   "source": [
    "import math\n",
    "import numpy as np\n",
    "import matplotlib.pyplot as plt\n",
    "import matplotlib.animation as animation"
   ]
  },
  {
   "cell_type": "markdown",
   "id": "11f96be1-9ab3-4f1e-8973-6f169fffe58e",
   "metadata": {},
   "source": [
    "# initial conditions"
   ]
  },
  {
   "cell_type": "code",
   "execution_count": 29,
   "id": "f2f98312-bbb0-45d7-847e-381c1bd14091",
   "metadata": {},
   "outputs": [],
   "source": [
    "#semi major axis\n",
    "sma_sun = 0\n",
    "sma_mercury = 0.39\n",
    "sma_venus = 0.723\n",
    "sma_earth = 1\n",
    "sma_mars = 1.524\n",
    "sma_jupiter = 5.2038\n",
    "sma_saturn = 9.537\n",
    "\n",
    "#masses\n",
    "m_sun = 1 #mass of the sun in solar masses (or in kg if you want to be wrong)\n",
    "m_mercury = 1.652e-7\n",
    "m_venus = 2.447e-6\n",
    "m_earth = 3.003e-6\n",
    "m_mars = 3.213e-7\n",
    "m_jupiter = 9.546e-4\n",
    "m_saturn = 2.857e-4\n",
    "\n",
    "#jank\n",
    "G = 4 * np.pi**2 #gravitational constant\n",
    "t = 20 #total time\n",
    "dt = 0.00273790926 #time step\n",
    "N = int(t/dt)"
   ]
  },
  {
   "cell_type": "code",
   "execution_count": 31,
   "id": "eb5c08a5-f359-4ca6-9981-ced4f20ed81d",
   "metadata": {},
   "outputs": [],
   "source": [
    "#each planet starts at perihelion (super realistic me thinks)\n",
    "sun_pos = np.array([0.0, 0.0])\n",
    "mercury_pos = np.array([0.307, 0.0])\n",
    "venus_pos = np.array([0.718, 0.0])\n",
    "earth_pos = np.array([0.9832899, 0.0])\n",
    "mars_pos = np.array([1.38, 0.0])\n",
    "jupiter_pos = np.array([4.95, 0.0])\n",
    "saturn_pos = np.array([9.0412, 0.0])\n",
    "neptune_pos = np.array([30.07, 0.0])"
   ]
  },
  {
   "cell_type": "code",
   "execution_count": 51,
   "id": "25a82287-59e4-4250-9e07-9a5a0dd2591d",
   "metadata": {},
   "outputs": [],
   "source": [
    "names = ['sun', 'mercury', 'venus', 'earth', 'mars', 'jupiter', 'saturn']\n",
    "colors = ['gold', 'indigo', 'brown', 'blue', 'red', 'moccasin', 'green']\n",
    "\n",
    "pos = np.vstack([sun_pos, mercury_pos, venus_pos, earth_pos, mars_pos, jupiter_pos, saturn_pos])\n",
    "mass = np.array([m_sun, m_mercury, m_venus, m_earth, m_mars, m_jupiter, m_saturn])\n",
    "vel = np.zeros_like(pos)\n",
    "sma = np.array([sma_sun, sma_mercury, sma_venus, sma_earth, sma_mars, sma_jupiter, sma_saturn])\n",
    "P = pos.shape[0]"
   ]
  },
  {
   "cell_type": "code",
   "execution_count": 53,
   "id": "c48e0e00-4d76-4bba-a958-6ac44736cd00",
   "metadata": {},
   "outputs": [
    {
     "name": "stderr",
     "output_type": "stream",
     "text": [
      "C:\\Users\\ryans\\AppData\\Local\\Temp\\ipykernel_212\\2683197521.py:2: RuntimeWarning: divide by zero encountered in divide\n",
      "  v_mag = np.sqrt(G * ( (2 / r_mag) - (1 / sma) ))\n",
      "C:\\Users\\ryans\\AppData\\Local\\Temp\\ipykernel_212\\2683197521.py:2: RuntimeWarning: invalid value encountered in subtract\n",
      "  v_mag = np.sqrt(G * ( (2 / r_mag) - (1 / sma) ))\n",
      "C:\\Users\\ryans\\AppData\\Local\\Temp\\ipykernel_212\\2683197521.py:6: RuntimeWarning: invalid value encountered in divide\n",
      "  perp /= r_mag[:,None]\n",
      "C:\\Users\\ryans\\AppData\\Local\\Temp\\ipykernel_212\\2683197521.py:9: RuntimeWarning: invalid value encountered in divide\n",
      "  vel[:,0] = -v_mag * pos[:,1] / r_mag\n",
      "C:\\Users\\ryans\\AppData\\Local\\Temp\\ipykernel_212\\2683197521.py:10: RuntimeWarning: invalid value encountered in divide\n",
      "  vel[:,1] = v_mag * pos[:,0] / r_mag\n"
     ]
    }
   ],
   "source": [
    "r_mag = np.linalg.norm(pos,axis=1)\n",
    "v_mag = np.sqrt(G * ( (2 / r_mag) - (1 / sma) ))\n",
    "v_mag[0] = 0.0\n",
    "\n",
    "perp = np.column_stack([-pos[:,-1],pos[:,0]])\n",
    "perp /= r_mag[:,None]\n",
    "perp[0] = 0.0\n",
    "\n",
    "vel[:,0] = -v_mag * pos[:,1] / r_mag\n",
    "vel[:,1] = v_mag * pos[:,0] / r_mag\n",
    "\n",
    "vel[0] = 0.0"
   ]
  },
  {
   "cell_type": "markdown",
   "id": "fe19a058-e5a3-44c5-9c55-bdd504031dda",
   "metadata": {},
   "source": [
    "# acceleration function"
   ]
  },
  {
   "cell_type": "code",
   "execution_count": 56,
   "id": "919301e3-b653-406a-8c40-73cae56086bd",
   "metadata": {},
   "outputs": [],
   "source": [
    "def accel(r):\n",
    "    r_mag = np.linalg.norm(r)\n",
    "    return -(G * r )/ r_mag**3"
   ]
  },
  {
   "cell_type": "markdown",
   "id": "ea1fe784-10c4-4ec0-a2a9-376dbe3eaed1",
   "metadata": {},
   "source": [
    "# new acceleration function"
   ]
  },
  {
   "cell_type": "code",
   "execution_count": 59,
   "id": "a25e3606-41e4-4cd2-8195-5fae3909609c",
   "metadata": {},
   "outputs": [],
   "source": [
    "def accel_new(pos, mass, sun_idx=0):\n",
    "    a = np.zeros_like(pos)\n",
    "    for i in range(P):\n",
    "        if i == sun_idx:\n",
    "            continue\n",
    "        for j in range(P):\n",
    "            if i == j: \n",
    "                continue               \n",
    "            r_ij = pos[j] - pos[i]\n",
    "            dist3 = np.linalg.norm(r_ij)**3\n",
    "            a[i] += (G * mass[j] * r_ij) / dist3\n",
    "    \n",
    "    return a"
   ]
  },
  {
   "cell_type": "code",
   "execution_count": 61,
   "id": "542474b1-0008-49db-9c43-e187144c1192",
   "metadata": {},
   "outputs": [],
   "source": [
    "a_old = accel_new(pos, mass)\n",
    "all_pos = []\n",
    "for _ in range(N):\n",
    "    vel += a_old * (dt/2)\n",
    "    pos += vel * dt\n",
    "    a_new = accel_new(pos,mass)\n",
    "    vel += a_new * (dt/2)\n",
    "    a_old = a_new\n",
    "    all_pos.append(pos.copy())\n",
    "\n",
    "all_pos = np.array(all_pos)\n",
    "all_pos[:,0] = 0.0"
   ]
  },
  {
   "cell_type": "markdown",
   "id": "d7547fdb-4991-4cb4-b245-7385d83d85a7",
   "metadata": {},
   "source": [
    "# MER CURRY"
   ]
  },
  {
   "cell_type": "code",
   "execution_count": 63,
   "id": "1bbe9bbe-58ba-4403-897d-64f53a024b90",
   "metadata": {},
   "outputs": [
    {
     "name": "stdout",
     "output_type": "stream",
     "text": [
      "[-418.87359658   -0.        ]\n",
      "12.488461734575566\n"
     ]
    }
   ],
   "source": [
    "a0_mer = accel(mercury_pos)\n",
    "print(a0_mer)\n",
    "r_mag_mer = np.linalg.norm(mercury_pos)\n",
    "v_mag_mer = np.sqrt(G * m_sun * ( (2 / r_mag_mer) - (1 / sma_mercury) ))\n",
    "print(v_mag_mer)"
   ]
  },
  {
   "cell_type": "code",
   "execution_count": 66,
   "id": "30a5fa24-dfc5-45af-9025-46d60bd8e2b5",
   "metadata": {},
   "outputs": [
    {
     "name": "stdout",
     "output_type": "stream",
     "text": [
      "[-0.         12.48846173]\n"
     ]
    }
   ],
   "source": [
    "pos_mer = []\n",
    "a_old_mer = accel(mercury_pos)\n",
    "r_mer = np.array([-mercury_pos[-1],mercury_pos[0]]) / r_mag_mer\n",
    "mercury_v = v_mag_mer * r_mer\n",
    "print(mercury_v)\n",
    "for i in range(N):\n",
    "    mercury_v += a_old_mer * (dt/2)\n",
    "    mercury_pos += mercury_v * dt\n",
    "    a_new_mer = accel(mercury_pos.copy())\n",
    "    mercury_v += a_new_mer * (dt/2)\n",
    "    a_old_mer = a_new_mer\n",
    "    pos_mer.append(mercury_pos.copy())"
   ]
  },
  {
   "cell_type": "markdown",
   "id": "c46ab334-626a-43df-978f-c0ed92e7cd69",
   "metadata": {},
   "source": [
    "# EARF"
   ]
  },
  {
   "cell_type": "code",
   "execution_count": 69,
   "id": "5991d0db-58ce-473c-988f-7c6cdfff48cc",
   "metadata": {},
   "outputs": [
    {
     "name": "stdout",
     "output_type": "stream",
     "text": [
      "6.389070026097736\n"
     ]
    }
   ],
   "source": [
    "a0_e = accel(earth_pos)\n",
    "r_mag_e = np.linalg.norm(earth_pos)\n",
    "v_mag_e = np.sqrt(G * m_sun * ( (2 / r_mag_e) - (1 / sma_earth) ))\n",
    "print(v_mag_e)"
   ]
  },
  {
   "cell_type": "code",
   "execution_count": 71,
   "id": "69560178-03a0-479e-956d-4b7fde880d46",
   "metadata": {},
   "outputs": [],
   "source": [
    "pos_e = []\n",
    "a_old_e = accel(earth_pos)\n",
    "r_e = np.array([-earth_pos[-1],earth_pos[0]]) / r_mag_e\n",
    "\n",
    "earth_v = v_mag_e * r_e\n",
    "\n",
    "for i in range(N):\n",
    "    earth_v += a_old_e * (dt/2)\n",
    "    earth_pos += earth_v * dt\n",
    "    a_new_e = accel(earth_pos.copy())\n",
    "    earth_v += a_new_e * (dt/2)\n",
    "    a_old_e = a_new_e\n",
    "    pos_e.append(earth_pos.copy())"
   ]
  },
  {
   "cell_type": "markdown",
   "id": "3722b04f-bcd6-4799-8db9-f86a11d19d1d",
   "metadata": {},
   "source": [
    "# MARZ"
   ]
  },
  {
   "cell_type": "code",
   "execution_count": 74,
   "id": "2dd1e604-ce19-4da6-8756-f2f06e6be4e9",
   "metadata": {},
   "outputs": [
    {
     "name": "stdout",
     "output_type": "stream",
     "text": [
      "5.59558973510896\n"
     ]
    }
   ],
   "source": [
    "a0_m = accel(mars_pos)\n",
    "r_mag_m = np.linalg.norm(mars_pos)\n",
    "v_mag_m = np.sqrt(G * m_sun * ( (2 / r_mag_m) - (1 / sma_mars) ))\n",
    "print(v_mag_m)"
   ]
  },
  {
   "cell_type": "code",
   "execution_count": 76,
   "id": "0d6ea55b-6134-4156-bf0b-2f54c03d7dfc",
   "metadata": {},
   "outputs": [],
   "source": [
    "pos_m = []\n",
    "a_old_m = accel(mars_pos)\n",
    "r_m = np.array([-mars_pos[-1],mars_pos[0]]) / r_mag_m\n",
    "\n",
    "mars_v = v_mag_m * r_m\n",
    "\n",
    "for i in range(N):\n",
    "    mars_v += a_old_m * (dt/2)\n",
    "    mars_pos += mars_v * dt\n",
    "    a_new_m = accel(mars_pos.copy())\n",
    "    mars_v += a_new_m * (dt/2)\n",
    "    a_old_m = a_new_m\n",
    "    pos_m.append(mars_pos.copy())"
   ]
  },
  {
   "cell_type": "markdown",
   "id": "06dd3829-6a72-4f1a-911b-6803c6a5b4c4",
   "metadata": {},
   "source": [
    "# JUPYTER"
   ]
  },
  {
   "cell_type": "code",
   "execution_count": 79,
   "id": "3020e3f2-950b-41dc-9f9f-ca7c9b806223",
   "metadata": {},
   "outputs": [
    {
     "name": "stdout",
     "output_type": "stream",
     "text": [
      "2.892130074082442\n"
     ]
    }
   ],
   "source": [
    "a0_j = accel(jupiter_pos)\n",
    "r_mag_j = np.linalg.norm(jupiter_pos)\n",
    "v_mag_j = np.sqrt(G * m_sun * ( (2 / r_mag_j) - (1 / sma_jupiter) ))\n",
    "print(v_mag_j)"
   ]
  },
  {
   "cell_type": "code",
   "execution_count": 81,
   "id": "70cc68f6-e3ce-4910-9035-6a83249c32b4",
   "metadata": {},
   "outputs": [],
   "source": [
    "pos_j = []\n",
    "a_old_j = accel(jupiter_pos)\n",
    "r_j = np.array([-jupiter_pos[-1],jupiter_pos[0]]) / r_mag_j\n",
    "\n",
    "jupiter_v = v_mag_j * r_j\n",
    "\n",
    "for i in range(N):\n",
    "    jupiter_v += a_old_j * (dt/2)\n",
    "    jupiter_pos += jupiter_v * dt\n",
    "    a_new_j = accel(jupiter_pos.copy())\n",
    "    jupiter_v += a_new_j * (dt/2)\n",
    "    a_old_j = a_new_j\n",
    "    pos_j.append(jupiter_pos.copy())"
   ]
  },
  {
   "cell_type": "markdown",
   "id": "963f5cf1-602d-40cd-85fe-80f70ea22866",
   "metadata": {},
   "source": [
    "# NEPTUNE?! (not yet)"
   ]
  },
  {
   "cell_type": "code",
   "execution_count": 84,
   "id": "95f19465-d100-44d9-bb08-66999b8ea18a",
   "metadata": {},
   "outputs": [
    {
     "name": "stdout",
     "output_type": "stream",
     "text": [
      "1.1458114407747713\n"
     ]
    }
   ],
   "source": [
    "a0_n = accel(neptune_pos)\n",
    "r_mag_n = np.linalg.norm(neptune_pos)\n",
    "v_mag_n = np.sqrt(np.linalg.norm(a0_n) * r_mag_n)\n",
    "print(v_mag_n)"
   ]
  },
  {
   "cell_type": "code",
   "execution_count": 86,
   "id": "ab0cfa93-180e-46be-bc29-292c5b60d606",
   "metadata": {},
   "outputs": [
    {
     "data": {
      "text/plain": [
       "'\\npos_n = []\\na_old_n = accel(neptune_pos)\\nr_n = np.array([-neptune_pos[-1],neptune_pos[0]]) / r_mag_n\\n\\nneptune_v = v_mag_n * r_n\\n\\nfor i in range(N):\\n    neptune_v += a_old_n * (dt/2)\\n    neptune_pos += neptune_v * dt\\n    a_new_n = accel(neptune_pos.copy())\\n    neptune_v += a_new_n * (dt/2)\\n    a_old_n = a_new_n\\n    #pos_n.append(neptune_pos.copy())\\n'"
      ]
     },
     "execution_count": 86,
     "metadata": {},
     "output_type": "execute_result"
    }
   ],
   "source": [
    "'''\n",
    "pos_n = []\n",
    "a_old_n = accel(neptune_pos)\n",
    "r_n = np.array([-neptune_pos[-1],neptune_pos[0]]) / r_mag_n\n",
    "\n",
    "neptune_v = v_mag_n * r_n\n",
    "\n",
    "for i in range(N):\n",
    "    neptune_v += a_old_n * (dt/2)\n",
    "    neptune_pos += neptune_v * dt\n",
    "    a_new_n = accel(neptune_pos.copy())\n",
    "    neptune_v += a_new_n * (dt/2)\n",
    "    a_old_n = a_new_n\n",
    "    #pos_n.append(neptune_pos.copy())\n",
    "'''"
   ]
  },
  {
   "cell_type": "markdown",
   "id": "26c5eb87-1ee1-4827-bb9e-bc0057a4a576",
   "metadata": {},
   "source": [
    "# plot"
   ]
  },
  {
   "cell_type": "code",
   "execution_count": 89,
   "id": "a9f67262-56c9-4cbf-9bf1-35e687cb0548",
   "metadata": {},
   "outputs": [
    {
     "data": {
      "image/png": "[encoded data removed]",
      "text/plain": [
       "<Figure size 640x480 with 1 Axes>"
      ]
     },
     "metadata": {},
     "output_type": "display_data"
    }
   ],
   "source": [
    "x_mer,y_mer = zip(*pos_mer)\n",
    "x_e,y_e = zip(*pos_e)\n",
    "x_m,y_m = zip(*pos_m)\n",
    "x_j,y_j = zip(*pos_j)\n",
    "#x_n,y_n = zip(*pos_n)\n",
    "\n",
    "fig, ax = plt.subplots()\n",
    "ax.scatter(0,0,s=20,color='gold',label='sun')\n",
    "ax.plot(x_mer,y_mer,color='indigo',label='mercury')\n",
    "ax.plot(x_e,y_e,color='blue',label='earth')\n",
    "ax.plot(x_m,y_m,color='red',label='mars')\n",
    "#ax.plot(x_j,y_j,color='moccasin',label='jupiter')\n",
    "#ax.plot(x_n,y_n,color='grey')\n",
    "plt.legend()\n",
    "plt.savefig(\"planet.jpg\")\n",
    "plt.show()"
   ]
  },
  {
   "cell_type": "code",
   "execution_count": 91,
   "id": "d683fd47-916d-4273-a55a-0941e5486f8d",
   "metadata": {},
   "outputs": [
    {
     "data": {
      "image/png": "[encoded data removed]",
      "text/plain": [
       "<Figure size 640x480 with 1 Axes>"
      ]
     },
     "metadata": {},
     "output_type": "display_data"
    }
   ],
   "source": [
    "plt.figure()\n",
    "for i in range(P-2):\n",
    "    if i == 0:\n",
    "        plt.scatter(0,0, color=colors[i], s=25,label=names[i])\n",
    "    else:\n",
    "        xs = all_pos[:, i, 0]\n",
    "        ys = all_pos[:, i, 1]\n",
    "        plt.plot(xs, ys, label=names[i], color=colors[i])\n",
    "        \n",
    "plt.legend()\n",
    "plt.savefig(\"planet_new.jpg\")\n",
    "plt.show()"
   ]
  },
  {
   "cell_type": "code",
   "execution_count": null,
   "id": "8a81058f-459a-44d6-b7e7-85c6873b397f",
   "metadata": {},
   "outputs": [],
   "source": []
  }
 ],
 "metadata": {
  "kernelspec": {
   "display_name": "Python [conda env:base] *",
   "language": "python",
   "name": "conda-base-py"
  },
  "language_info": {
   "codemirror_mode": {
    "name": "ipython",
    "version": 3
   },
   "file_extension": ".py",
   "mimetype": "text/x-python",
   "name": "python",
   "nbconvert_exporter": "python",
   "pygments_lexer": "ipython3",
   "version": "3.11.5"
  }
 },
 "nbformat": 4,
 "nbformat_minor": 5
}
