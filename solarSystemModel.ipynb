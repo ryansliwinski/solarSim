{
 "cells": [
  {
   "cell_type": "markdown",
   "id": "09f46b5b-b614-4a6a-80e3-a4113ed503b1",
   "metadata": {},
   "source": [
    "# imports and constants"
   ]
  },
  {
   "cell_type": "code",
   "execution_count": 2,
   "id": "7270505e-040a-4fc8-ad5b-eba3adfb5004",
   "metadata": {},
   "outputs": [],
   "source": [
    "import numpy as np\n",
    "import matplotlib.pyplot as plt"
   ]
  },
  {
   "cell_type": "code",
   "execution_count": 6,
   "id": "f2f98312-bbb0-45d7-847e-381c1bd14091",
   "metadata": {},
   "outputs": [],
   "source": [
    "G = 4 * np.pi**2\n",
    "dt = 0.001"
   ]
  },
  {
   "cell_type": "markdown",
   "id": "c05297ac-0ba0-477d-81de-1672e4a4e6ca",
   "metadata": {},
   "source": [
    "# initial conditions"
   ]
  },
  {
   "cell_type": "code",
   "execution_count": null,
   "id": "eb5c08a5-f359-4ca6-9981-ced4f20ed81d",
   "metadata": {},
   "outputs": [],
   "source": []
  }
 ],
 "metadata": {
  "kernelspec": {
   "display_name": "Python 3 (ipykernel)",
   "language": "python",
   "name": "python3"
  },
  "language_info": {
   "codemirror_mode": {
    "name": "ipython",
    "version": 3
   },
   "file_extension": ".py",
   "mimetype": "text/x-python",
   "name": "python",
   "nbconvert_exporter": "python",
   "pygments_lexer": "ipython3",
   "version": "3.10.16"
  }
 },
 "nbformat": 4,
 "nbformat_minor": 5
}
