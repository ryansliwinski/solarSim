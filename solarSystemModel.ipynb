{
 "cells": [
  {
   "cell_type": "markdown",
   "id": "09f46b5b-b614-4a6a-80e3-a4113ed503b1",
   "metadata": {},
   "source": [
    "# imports and constants"
   ]
  },
  {
   "cell_type": "code",
   "execution_count": 1,
   "id": "7270505e-040a-4fc8-ad5b-eba3adfb5004",
   "metadata": {},
   "outputs": [],
   "source": [
    "import math\n",
    "import numpy as np\n",
    "import matplotlib.pyplot as plt\n",
    "import matplotlib.animation as animation"
   ]
  },
  {
   "cell_type": "code",
   "execution_count": 103,
   "id": "f2f98312-bbb0-45d7-847e-381c1bd14091",
   "metadata": {},
   "outputs": [],
   "source": [
    "G = 4 * np.pi**2 #gravitational constant\n",
    "t = 13 #total time\n",
    "dt = 0.00273790926 #time step\n",
    "a_mercury = 0.39\n",
    "a_earth = 1\n",
    "a_mars = 1.524\n",
    "a_jupiter = 5.2038\n",
    "m_sun = 1 #mass of the sun in solar masses (or in kg if you want to be wrong)\n",
    "m_earth = 3.00274e6\n",
    "m_mars = 3.213e-6\n",
    "m_moon = 3.69432e-8\n",
    "N = int(t/dt)"
   ]
  },
  {
   "cell_type": "markdown",
   "id": "c05297ac-0ba0-477d-81de-1672e4a4e6ca",
   "metadata": {},
   "source": [
    "# initial conditions"
   ]
  },
  {
   "cell_type": "code",
   "execution_count": 106,
   "id": "eb5c08a5-f359-4ca6-9981-ced4f20ed81d",
   "metadata": {},
   "outputs": [],
   "source": [
    "sun_pos = np.array([0.0, 0.0])\n",
    "mercury_pos = np.array([0.307, 0.0])\n",
    "earth_pos = np.array([0.9832899, 0.0])\n",
    "mars_pos = np.array([1.38, 0.0])\n",
    "jupiter_pos = np.array([4.95, 0.0])\n",
    "neptune_pos = np.array([30.07, 0.0])"
   ]
  },
  {
   "cell_type": "markdown",
   "id": "fe19a058-e5a3-44c5-9c55-bdd504031dda",
   "metadata": {},
   "source": [
    "# acceleration function"
   ]
  },
  {
   "cell_type": "code",
   "execution_count": 109,
   "id": "919301e3-b653-406a-8c40-73cae56086bd",
   "metadata": {},
   "outputs": [],
   "source": [
    "def accel(r):\n",
    "    r_mag = np.linalg.norm(r)\n",
    "    return -(G * r )/ r_mag**3"
   ]
  },
  {
   "cell_type": "markdown",
   "id": "ea1fe784-10c4-4ec0-a2a9-376dbe3eaed1",
   "metadata": {},
   "source": [
    "# new acceleration function"
   ]
  },
  {
   "cell_type": "code",
   "execution_count": null,
   "id": "a25e3606-41e4-4cd2-8195-5fae3909609c",
   "metadata": {},
   "outputs": [],
   "source": []
  },
  {
   "cell_type": "markdown",
   "id": "30a3ef28-1e02-4f0c-855d-f1d7b14543a1",
   "metadata": {},
   "source": [
    "# initial velocities"
   ]
  },
  {
   "cell_type": "code",
   "execution_count": 114,
   "id": "45319529-817c-4705-ae34-68122b0c8b77",
   "metadata": {},
   "outputs": [],
   "source": [
    "def vel(r):\n",
    "    r0 = np.linalg.norm(r)\n",
    "    return np.sqrt(G * m_sun * ( (2 / r0) - (1 / a_earth) ))"
   ]
  },
  {
   "cell_type": "markdown",
   "id": "d7547fdb-4991-4cb4-b245-7385d83d85a7",
   "metadata": {},
   "source": [
    "# MER CURRY"
   ]
  },
  {
   "cell_type": "code",
   "execution_count": 117,
   "id": "1bbe9bbe-58ba-4403-897d-64f53a024b90",
   "metadata": {},
   "outputs": [
    {
     "name": "stdout",
     "output_type": "stream",
     "text": [
      "12.488461734575566\n"
     ]
    }
   ],
   "source": [
    "a0_mer = accel(mercury_pos)\n",
    "r_mag_mer = np.linalg.norm(mercury_pos)\n",
    "v_mag_mer = np.sqrt(G * m_sun * ( (2 / r_mag_mer) - (1 / a_mercury) ))\n",
    "print(v_mag_mer)"
   ]
  },
  {
   "cell_type": "code",
   "execution_count": 119,
   "id": "30a5fa24-dfc5-45af-9025-46d60bd8e2b5",
   "metadata": {},
   "outputs": [],
   "source": [
    "pos_mer = []\n",
    "a_old_mer = accel(mercury_pos)\n",
    "r_mer = np.array([-mercury_pos[-1],mercury_pos[0]]) / r_mag_mer\n",
    "\n",
    "mercury_v = v_mag_mer * r_mer\n",
    "\n",
    "for i in range(N):\n",
    "    mercury_v += a_old_mer * (dt/2)\n",
    "    mercury_pos += mercury_v * dt\n",
    "    a_new_mer = accel(mercury_pos.copy())\n",
    "    mercury_v += a_new_mer * (dt/2)\n",
    "    a_old_mer = a_new_mer\n",
    "    pos_mer.append(mercury_pos.copy())"
   ]
  },
  {
   "cell_type": "markdown",
   "id": "c46ab334-626a-43df-978f-c0ed92e7cd69",
   "metadata": {},
   "source": [
    "# EARF"
   ]
  },
  {
   "cell_type": "code",
   "execution_count": 122,
   "id": "5991d0db-58ce-473c-988f-7c6cdfff48cc",
   "metadata": {},
   "outputs": [
    {
     "name": "stdout",
     "output_type": "stream",
     "text": [
      "6.389070026097736\n"
     ]
    }
   ],
   "source": [
    "a0_e = accel(earth_pos)\n",
    "r_mag_e = np.linalg.norm(earth_pos)\n",
    "v_mag_e = np.sqrt(G * m_sun * ( (2 / r_mag_e) - (1 / a_earth) ))\n",
    "print(v_mag_e)"
   ]
  },
  {
   "cell_type": "code",
   "execution_count": 124,
   "id": "69560178-03a0-479e-956d-4b7fde880d46",
   "metadata": {},
   "outputs": [],
   "source": [
    "pos_e = []\n",
    "a_old_e = accel(earth_pos)\n",
    "r_e = np.array([-earth_pos[-1],earth_pos[0]]) / r_mag_e\n",
    "\n",
    "earth_v = v_mag_e * r_e\n",
    "\n",
    "for i in range(N):\n",
    "    earth_v += a_old_e * (dt/2)\n",
    "    earth_pos += earth_v * dt\n",
    "    a_new_e = accel(earth_pos.copy())\n",
    "    earth_v += a_new_e * (dt/2)\n",
    "    a_old_e = a_new_e\n",
    "    pos_e.append(earth_pos.copy())"
   ]
  },
  {
   "cell_type": "markdown",
   "id": "3722b04f-bcd6-4799-8db9-f86a11d19d1d",
   "metadata": {},
   "source": [
    "# MARZ"
   ]
  },
  {
   "cell_type": "code",
   "execution_count": 127,
   "id": "2dd1e604-ce19-4da6-8756-f2f06e6be4e9",
   "metadata": {},
   "outputs": [
    {
     "name": "stdout",
     "output_type": "stream",
     "text": [
      "5.59558973510896\n"
     ]
    }
   ],
   "source": [
    "a0_m = accel(mars_pos)\n",
    "r_mag_m = np.linalg.norm(mars_pos)\n",
    "v_mag_m = np.sqrt(G * m_sun * ( (2 / r_mag_m) - (1 / a_mars) ))\n",
    "print(v_mag_m)"
   ]
  },
  {
   "cell_type": "code",
   "execution_count": 129,
   "id": "0d6ea55b-6134-4156-bf0b-2f54c03d7dfc",
   "metadata": {},
   "outputs": [],
   "source": [
    "pos_m = []\n",
    "a_old_m = accel(mars_pos)\n",
    "r_m = np.array([-mars_pos[-1],mars_pos[0]]) / r_mag_m\n",
    "\n",
    "mars_v = v_mag_m * r_m\n",
    "\n",
    "for i in range(N):\n",
    "    mars_v += a_old_m * (dt/2)\n",
    "    mars_pos += mars_v * dt\n",
    "    a_new_m = accel(mars_pos.copy())\n",
    "    mars_v += a_new_m * (dt/2)\n",
    "    a_old_m = a_new_m\n",
    "    pos_m.append(mars_pos.copy())"
   ]
  },
  {
   "cell_type": "markdown",
   "id": "06dd3829-6a72-4f1a-911b-6803c6a5b4c4",
   "metadata": {},
   "source": [
    "# JUPYTER"
   ]
  },
  {
   "cell_type": "code",
   "execution_count": 132,
   "id": "3020e3f2-950b-41dc-9f9f-ca7c9b806223",
   "metadata": {},
   "outputs": [
    {
     "name": "stdout",
     "output_type": "stream",
     "text": [
      "2.892130074082442\n"
     ]
    }
   ],
   "source": [
    "a0_j = accel(jupiter_pos)\n",
    "r_mag_j = np.linalg.norm(jupiter_pos)\n",
    "v_mag_j = np.sqrt(G * m_sun * ( (2 / r_mag_j) - (1 / a_jupiter) ))\n",
    "print(v_mag_j)"
   ]
  },
  {
   "cell_type": "code",
   "execution_count": 134,
   "id": "70cc68f6-e3ce-4910-9035-6a83249c32b4",
   "metadata": {},
   "outputs": [],
   "source": [
    "pos_j = []\n",
    "a_old_j = accel(jupiter_pos)\n",
    "r_j = np.array([-jupiter_pos[-1],jupiter_pos[0]]) / r_mag_j\n",
    "\n",
    "jupiter_v = v_mag_j * r_j\n",
    "\n",
    "for i in range(N):\n",
    "    jupiter_v += a_old_j * (dt/2)\n",
    "    jupiter_pos += jupiter_v * dt\n",
    "    a_new_j = accel(jupiter_pos.copy())\n",
    "    jupiter_v += a_new_j * (dt/2)\n",
    "    a_old_j = a_new_j\n",
    "    pos_j.append(jupiter_pos.copy())"
   ]
  },
  {
   "cell_type": "markdown",
   "id": "963f5cf1-602d-40cd-85fe-80f70ea22866",
   "metadata": {},
   "source": [
    "# NEPTUNE?! (not yet)"
   ]
  },
  {
   "cell_type": "code",
   "execution_count": 137,
   "id": "95f19465-d100-44d9-bb08-66999b8ea18a",
   "metadata": {},
   "outputs": [
    {
     "name": "stdout",
     "output_type": "stream",
     "text": [
      "1.1458114407747713\n"
     ]
    }
   ],
   "source": [
    "a0_n = accel(neptune_pos)\n",
    "r_mag_n = np.linalg.norm(neptune_pos)\n",
    "v_mag_n = np.sqrt(np.linalg.norm(a0_n) * r_mag_n)\n",
    "print(v_mag_n)"
   ]
  },
  {
   "cell_type": "code",
   "execution_count": 139,
   "id": "ab0cfa93-180e-46be-bc29-292c5b60d606",
   "metadata": {},
   "outputs": [
    {
     "data": {
      "text/plain": [
       "'\\npos_n = []\\na_old_n = accel(neptune_pos)\\nr_n = np.array([-neptune_pos[-1],neptune_pos[0]]) / r_mag_n\\n\\nneptune_v = v_mag_n * r_n\\n\\nfor i in range(N):\\n    neptune_v += a_old_n * (dt/2)\\n    neptune_pos += neptune_v * dt\\n    a_new_n = accel(neptune_pos.copy())\\n    neptune_v += a_new_n * (dt/2)\\n    a_old_n = a_new_n\\n    #pos_n.append(neptune_pos.copy())\\n'"
      ]
     },
     "execution_count": 139,
     "metadata": {},
     "output_type": "execute_result"
    }
   ],
   "source": [
    "'''\n",
    "pos_n = []\n",
    "a_old_n = accel(neptune_pos)\n",
    "r_n = np.array([-neptune_pos[-1],neptune_pos[0]]) / r_mag_n\n",
    "\n",
    "neptune_v = v_mag_n * r_n\n",
    "\n",
    "for i in range(N):\n",
    "    neptune_v += a_old_n * (dt/2)\n",
    "    neptune_pos += neptune_v * dt\n",
    "    a_new_n = accel(neptune_pos.copy())\n",
    "    neptune_v += a_new_n * (dt/2)\n",
    "    a_old_n = a_new_n\n",
    "    #pos_n.append(neptune_pos.copy())\n",
    "'''"
   ]
  },
  {
   "cell_type": "markdown",
   "id": "26c5eb87-1ee1-4827-bb9e-bc0057a4a576",
   "metadata": {},
   "source": [
    "# plot"
   ]
  },
  {
   "cell_type": "code",
   "execution_count": 144,
   "id": "a9f67262-56c9-4cbf-9bf1-35e687cb0548",
   "metadata": {},
   "outputs": [
    {
     "data": {
      "image/png": "[encoded data removed]",
      "text/plain": [
       "<Figure size 640x480 with 1 Axes>"
      ]
     },
     "metadata": {},
     "output_type": "display_data"
    }
   ],
   "source": [
    "x_mer,y_mer = zip(*pos_mer)\n",
    "x_e,y_e = zip(*pos_e)\n",
    "x_m,y_m = zip(*pos_m)\n",
    "x_j,y_j = zip(*pos_j)\n",
    "#x_n,y_n = zip(*pos_n)\n",
    "\n",
    "fig, ax = plt.subplots()\n",
    "ax.scatter(0,0,s=20,color='gold',label='sun')\n",
    "ax.plot(x_mer,y_mer,color='indigo',label='mercury')\n",
    "ax.plot(x_e,y_e,color='blue',label='earth')\n",
    "ax.plot(x_m,y_m,color='red',label='mars')\n",
    "ax.plot(x_j,y_j,color='moccasin',label='jupiter')\n",
    "#ax.plot(x_n,y_n,color='grey')\n",
    "plt.legend()\n",
    "plt.savefig(\"planet.jpg\")\n",
    "plt.show()"
   ]
  },
  {
   "cell_type": "code",
   "execution_count": null,
   "id": "3dd64d6b-f55d-4624-9a34-3ddb613f4fce",
   "metadata": {},
   "outputs": [],
   "source": []
  }
 ],
 "metadata": {
  "kernelspec": {
   "display_name": "Python [conda env:base] *",
   "language": "python",
   "name": "conda-base-py"
  },
  "language_info": {
   "codemirror_mode": {
    "name": "ipython",
    "version": 3
   },
   "file_extension": ".py",
   "mimetype": "text/x-python",
   "name": "python",
   "nbconvert_exporter": "python",
   "pygments_lexer": "ipython3",
   "version": "3.11.5"
  }
 },
 "nbformat": 4,
 "nbformat_minor": 5
}
